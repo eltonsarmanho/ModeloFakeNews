{
 "cells": [
  {
   "cell_type": "code",
   "execution_count": 2,
   "id": "9deb1eb3",
   "metadata": {},
   "outputs": [],
   "source": [
    "from sklearn.model_selection import train_test_split\n",
    "from sklearn.feature_extraction.text import CountVectorizer\n",
    "from sklearn.naive_bayes import MultinomialNB\n",
    "from sklearn.metrics import accuracy_score, classification_report\n",
    "from sklearn.pipeline import make_pipeline\n",
    "import pandas as pd"
   ]
  },
  {
   "cell_type": "code",
   "execution_count": 22,
   "id": "fd0f4e57",
   "metadata": {},
   "outputs": [
    {
     "data": {
      "text/html": [
       "<div>\n",
       "<style scoped>\n",
       "    .dataframe tbody tr th:only-of-type {\n",
       "        vertical-align: middle;\n",
       "    }\n",
       "\n",
       "    .dataframe tbody tr th {\n",
       "        vertical-align: top;\n",
       "    }\n",
       "\n",
       "    .dataframe thead th {\n",
       "        text-align: right;\n",
       "    }\n",
       "</style>\n",
       "<table border=\"1\" class=\"dataframe\">\n",
       "  <thead>\n",
       "    <tr style=\"text-align: right;\">\n",
       "      <th></th>\n",
       "      <th>index</th>\n",
       "      <th>label</th>\n",
       "      <th>preprocessed_news</th>\n",
       "    </tr>\n",
       "  </thead>\n",
       "  <tbody>\n",
       "    <tr>\n",
       "      <th>0</th>\n",
       "      <td>0</td>\n",
       "      <td>fake</td>\n",
       "      <td>katia abreu diz vai colocar expulsao moldura n...</td>\n",
       "    </tr>\n",
       "    <tr>\n",
       "      <th>1</th>\n",
       "      <td>1</td>\n",
       "      <td>fake</td>\n",
       "      <td>ray peita bolsonaro conservador fake entrevist...</td>\n",
       "    </tr>\n",
       "    <tr>\n",
       "      <th>2</th>\n",
       "      <td>2</td>\n",
       "      <td>fake</td>\n",
       "      <td>reinaldo azevedo desmascarado policia federal ...</td>\n",
       "    </tr>\n",
       "    <tr>\n",
       "      <th>3</th>\n",
       "      <td>3</td>\n",
       "      <td>fake</td>\n",
       "      <td>relatorio assustador bndes mostra dinheiro pub...</td>\n",
       "    </tr>\n",
       "    <tr>\n",
       "      <th>4</th>\n",
       "      <td>4</td>\n",
       "      <td>fake</td>\n",
       "      <td>radialista americano fala sobre pt vendem ilus...</td>\n",
       "    </tr>\n",
       "  </tbody>\n",
       "</table>\n",
       "</div>"
      ],
      "text/plain": [
       "   index label                                  preprocessed_news\n",
       "0      0  fake  katia abreu diz vai colocar expulsao moldura n...\n",
       "1      1  fake  ray peita bolsonaro conservador fake entrevist...\n",
       "2      2  fake  reinaldo azevedo desmascarado policia federal ...\n",
       "3      3  fake  relatorio assustador bndes mostra dinheiro pub...\n",
       "4      4  fake  radialista americano fala sobre pt vendem ilus..."
      ]
     },
     "execution_count": 22,
     "metadata": {},
     "output_type": "execute_result"
    }
   ],
   "source": [
    "\n",
    "# Carregar o arquivo CSV\n",
    "file_path = 'dataset/pre-processed.csv'\n",
    "data = pd.read_csv(file_path)\n",
    "\n",
    "# Exibir as primeiras linhas do dataframe para entender a estrutura dos dados\n",
    "data.head()"
   ]
  },
  {
   "cell_type": "markdown",
   "id": "f0a1d152",
   "metadata": {},
   "source": [
    "O `CountVectorizer` é uma técnica utilizada em processamento de linguagem natural (PLN) e aprendizado de máquina para converter uma coleção de documentos de texto em uma matriz de contagens de tokens. Essencialmente, ele transforma os textos em um formato que os algoritmos de aprendizado de máquina podem entender. Vamos detalhar suas características principais:\n",
    "\n",
    "1. **Tokenização**: Ele divide os textos em palavras, termos ou símbolos (conhecidos como tokens). Por exemplo, a frase \"O gato dorme\" seria dividida em tokens como \"O\", \"gato\", \"dorme\".\n",
    "\n",
    "2. **Construção de Vocabulário**: Cria um vocabulário de todos os tokens únicos presentes nos documentos de texto. Por exemplo, se tivermos duas frases, \"O gato dorme\" e \"O cachorro brinca\", o vocabulário seria [\"O\", \"gato\", \"dorme\", \"cachorro\", \"brinca\"].\n",
    "\n",
    "3. **Contagem de Frequência**: Para cada documento, conta quantas vezes cada palavra do vocabulário aparece. Isto resulta em uma matriz onde cada linha representa um documento e cada coluna representa um token do vocabulário. Os valores da matriz são as contagens de frequência de cada token no documento correspondente.\n",
    "\n",
    "4. **Normalização**: Opcionalmente, o CountVectorizer pode aplicar várias formas de normalização nos dados, como converter todas as letras para minúsculas para garantir que \"Gato\" e \"gato\" sejam contados como o mesmo token.\n",
    "\n",
    "O CountVectorizer é uma ferramenta básica, mas poderosa, para a conversão de texto em um formato numérico que pode ser utilizado por algoritmos de aprendizado de máquina. Ele é particularmente útil para tarefas de classificação de texto, análise de sentimento, agrupamento de documentos, entre outras aplicações em PLN. No entanto, ele tem limitações, como a incapacidade de capturar a ordem das palavras ou o contexto em que aparecem, que podem ser superadas por técnicas mais avançadas como TF-IDF ou word embeddings."
   ]
  },
  {
   "cell_type": "code",
   "execution_count": 23,
   "id": "56ca1d0d",
   "metadata": {},
   "outputs": [],
   "source": [
    "# Dividindo os dados em características (X) e alvo (y)\n",
    "X = data['preprocessed_news']\n",
    "y = data['label']\n",
    "\n",
    "# Dividindo os dados em conjuntos de treinamento e teste\n",
    "X_train, X_test, y_train, y_test = train_test_split(X, y, test_size=0.2, random_state=42)\n",
    "\n",
    "# Criando e treinando o modelo\n",
    "# Usaremos um pipeline que inclui a vetorização e o classificador Naive Bayes\n",
    "model = make_pipeline(CountVectorizer(), MultinomialNB())\n",
    "model.fit(X_train, y_train)\n",
    "\n",
    "# Avaliando o modelo no conjunto de teste\n",
    "y_pred = model.predict(X_test)\n",
    "accuracy = accuracy_score(y_test, y_pred)\n",
    "report = classification_report(y_test, y_pred)\n",
    "\n",
    "\n"
   ]
  },
  {
   "cell_type": "code",
   "execution_count": 24,
   "id": "b3b2e594",
   "metadata": {},
   "outputs": [
    {
     "name": "stdout",
     "output_type": "stream",
     "text": [
      "0.8270833333333333\n",
      "              precision    recall  f1-score   support\n",
      "\n",
      "        fake       0.96      0.68      0.80       718\n",
      "        true       0.76      0.97      0.85       722\n",
      "\n",
      "    accuracy                           0.83      1440\n",
      "   macro avg       0.86      0.83      0.82      1440\n",
      "weighted avg       0.86      0.83      0.82      1440\n",
      "\n"
     ]
    }
   ],
   "source": [
    "print(accuracy);print(report)"
   ]
  },
  {
   "cell_type": "markdown",
   "id": "34594edf",
   "metadata": {},
   "source": [
    "# Sobre TfidfVectorizer\n",
    "### Para aplicar word embeddings ao modelo de classificação de texto, podemos usar o TfidfVectorizer ou incorporar embeddings pré-treinados como os do Word2Vec ou GloVe. O TfidfVectorizer é uma alternativa ao CountVectorizer que não apenas conta a frequência das palavras, mas também leva em consideração a importância relativa das palavras nos documentos. Vamos começar com o TfidfVectorizer.\n",
    "\n",
    "TfidfVectorizer: TF-IDF significa \"Term Frequency-Inverse Document Frequency\". Este método avalia a importância de uma palavra no contexto de um conjunto de documentos. Ele aumenta a pontuação de palavras que são frequentes em um documento, mas não em todos os documentos, o que ajuda a filtrar palavras comuns que não contribuem para o significado do texto."
   ]
  },
  {
   "cell_type": "code",
   "execution_count": 25,
   "id": "fbd1a0ba",
   "metadata": {},
   "outputs": [
    {
     "name": "stdout",
     "output_type": "stream",
     "text": [
      "0.6145833333333334\n",
      "              precision    recall  f1-score   support\n",
      "\n",
      "        fake       1.00      0.23      0.37       718\n",
      "        true       0.57      1.00      0.72       722\n",
      "\n",
      "    accuracy                           0.61      1440\n",
      "   macro avg       0.78      0.61      0.55      1440\n",
      "weighted avg       0.78      0.61      0.55      1440\n",
      "\n"
     ]
    }
   ],
   "source": [
    "from sklearn.feature_extraction.text import TfidfVectorizer\n",
    "\n",
    "# Criando e treinando o modelo com TfidfVectorizer\n",
    "model_tfidf = make_pipeline(TfidfVectorizer(), MultinomialNB())\n",
    "model_tfidf.fit(X_train, y_train)\n",
    "\n",
    "# Avaliando o modelo com TfidfVectorizer no conjunto de teste\n",
    "y_pred_tfidf = model_tfidf.predict(X_test)\n",
    "accuracy_tfidf = accuracy_score(y_test, y_pred_tfidf)\n",
    "report_tfidf = classification_report(y_test, y_pred_tfidf)\n",
    "\n",
    "accuracy_tfidf, report_tfidf\n",
    "print(accuracy_tfidf);print(report_tfidf)"
   ]
  },
  {
   "cell_type": "markdown",
   "id": "120d7021",
   "metadata": {},
   "source": [
    "#### Resultado mostrou ser menor que anterior (CountVectorizer)\n"
   ]
  },
  {
   "cell_type": "markdown",
   "id": "fdbf315b",
   "metadata": {},
   "source": [
    "## Para explorar embeddings de palavras mais sofisticados, vamos usar GloVe com Rede Neural.\n",
    "\n",
    "Para incorporar embeddings pré-treinados como GloVe em seu modelo de classificação de texto, é necessário um processo mais complexo. Infelizmente, não posso executar esse processo diretamente aqui devido a limitações de hardware e software, mas posso fornecer uma visão geral de como você pode fazer isso em seu próprio ambiente de desenvolvimento.\n",
    "\n",
    "O processo geral envolve os seguintes passos:\n",
    "\n",
    "1. **Download do GloVe**: Primeiro, você precisa baixar os embeddings pré-treinados do GloVe. Eles estão disponíveis em várias dimensões (por exemplo, 50, 100, 200, 300).\n",
    "\n",
    "2. **Carregar os Embeddings do GloVe**: Carregar os embeddings em sua aplicação. Isso geralmente envolve ler o arquivo do GloVe e criar um dicionário onde as chaves são as palavras e os valores são os vetores de embedding correspondentes.\n",
    "\n",
    "3. **Preparação dos Dados**: Você precisa converter os textos do seu conjunto de dados em vetores usando os embeddings do GloVe. Isso geralmente significa que você precisará calcular a média dos embeddings de todas as palavras em um documento para obter um único vetor representando esse documento.\n",
    "\n",
    "4. **Construção do Modelo**: Em vez de usar modelos como Naive Bayes, você provavelmente usará um modelo de rede neural, como um perceptron multicamada, que pode processar os vetores de entrada de alta dimensão.\n",
    "\n",
    "5. **Treinamento e Avaliação**: Treine o modelo em seu conjunto de dados e avalie seu desempenho.\n",
    "\n",
    "Aqui está um exemplo de código que ilustra como isso pode ser feito em Python, utilizando bibliotecas como Pandas, NumPy e Scikit-learn:"
   ]
  },
  {
   "cell_type": "code",
   "execution_count": 26,
   "id": "528b4b95",
   "metadata": {},
   "outputs": [],
   "source": [
    "import numpy as np\n",
    "import pandas as pd\n",
    "from sklearn.neural_network import MLPClassifier\n",
    "from sklearn.metrics import classification_report\n",
    "from sklearn.model_selection import train_test_split"
   ]
  },
  {
   "cell_type": "code",
   "execution_count": 27,
   "id": "a3f6868a",
   "metadata": {},
   "outputs": [],
   "source": [
    "# Carregar o GloVe embeddings\n",
    "embeddings_index = {}\n",
    "with open('glove/glove_s100.txt', 'r', encoding='utf8') as f:\n",
    "    for line in f:\n",
    "        values = line.split()\n",
    "        word = values[0]\n",
    "        vector_values = []\n",
    "        for val in values[1:]:\n",
    "            try:\n",
    "                vector_values.append(float(val))\n",
    "            except ValueError:\n",
    "                # Pular valores que não podem ser convertidos em float\n",
    "                continue\n",
    "        if len(vector_values) == 100:  # Garantir que o vetor tenha a dimensão correta\n",
    "            embeddings_index[word] = np.asarray(vector_values, dtype='float32')\n",
    "        \n",
    "        \n",
    "        \n",
    "        \n"
   ]
  },
  {
   "cell_type": "code",
   "execution_count": 28,
   "id": "5a606e11",
   "metadata": {},
   "outputs": [],
   "source": [
    "\n",
    "# Função para converter texto em embedding\n",
    "def text_to_embedding(text, embeddings_index):\n",
    "    words = text.split()\n",
    "    embedding = np.zeros(100)  # usando GloVe 100d. Se usar de X dimensao, deve alterar\n",
    "    for word in words:\n",
    "        embedding += embeddings_index.get(word, np.zeros(100))\n",
    "    return embedding / len(words)"
   ]
  },
  {
   "cell_type": "code",
   "execution_count": 29,
   "id": "6336cb0a",
   "metadata": {},
   "outputs": [
    {
     "name": "stdout",
     "output_type": "stream",
     "text": [
      "              precision    recall  f1-score   support\n",
      "\n",
      "        fake       0.91      0.89      0.90       718\n",
      "        true       0.89      0.91      0.90       722\n",
      "\n",
      "    accuracy                           0.90      1440\n",
      "   macro avg       0.90      0.90      0.90      1440\n",
      "weighted avg       0.90      0.90      0.90      1440\n",
      "\n"
     ]
    },
    {
     "name": "stderr",
     "output_type": "stream",
     "text": [
      "/home/eltonss/anaconda3/lib/python3.11/site-packages/sklearn/neural_network/_multilayer_perceptron.py:702: ConvergenceWarning: Stochastic Optimizer: Maximum iterations (500) reached and the optimization hasn't converged yet.\n",
      "  warnings.warn(\n"
     ]
    }
   ],
   "source": [
    "# Carregar e preparar os dados\n",
    "file_path = 'dataset/pre-processed.csv'\n",
    "data = pd.read_csv(file_path)\n",
    "X = data['preprocessed_news'].apply(lambda x: text_to_embedding(x, embeddings_index))\n",
    "y = data['label']\n",
    "\n",
    "# Dividir os dados\n",
    "X_train, X_test, y_train, y_test = train_test_split(X, y, test_size=0.2, random_state=42)\n",
    "\n",
    "# Converter para NumPy arrays\n",
    "X_train = np.stack(X_train.values)\n",
    "X_test = np.stack(X_test.values)\n",
    "\n",
    "# Construir e treinar o modelo\n",
    "model = MLPClassifier(hidden_layer_sizes=(100, ), max_iter=500)\n",
    "model.fit(X_train, y_train)\n",
    "\n",
    "# Avaliar o modelo\n",
    "y_pred = model.predict(X_test)\n",
    "print(classification_report(y_test, y_pred))"
   ]
  },
  {
   "cell_type": "markdown",
   "id": "9179babc",
   "metadata": {},
   "source": [
    "## Como pode ser visto. Usando Glove de 100 dimensões obtemos um resultado melhor. Não fiz vários testes e nem arrumei os melhores parâmetros para rede"
   ]
  },
  {
   "cell_type": "code",
   "execution_count": null,
   "id": "2d935cfe",
   "metadata": {},
   "outputs": [],
   "source": []
  }
 ],
 "metadata": {
  "kernelspec": {
   "display_name": "Python 3 (ipykernel)",
   "language": "python",
   "name": "python3"
  },
  "language_info": {
   "codemirror_mode": {
    "name": "ipython",
    "version": 3
   },
   "file_extension": ".py",
   "mimetype": "text/x-python",
   "name": "python",
   "nbconvert_exporter": "python",
   "pygments_lexer": "ipython3",
   "version": "3.11.4"
  }
 },
 "nbformat": 4,
 "nbformat_minor": 5
}
